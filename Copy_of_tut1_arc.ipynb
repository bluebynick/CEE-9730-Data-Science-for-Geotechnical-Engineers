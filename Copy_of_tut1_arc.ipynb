{
  "nbformat": 4,
  "nbformat_minor": 0,
  "metadata": {
    "colab": {
      "provenance": [],
      "collapsed_sections": []
    },
    "kernelspec": {
      "name": "python3",
      "display_name": "Python 3"
    },
    "language_info": {
      "name": "python"
    }
  },
  "cells": [
    {
      "cell_type": "markdown",
      "source": [
        "# Tutorial 1\n",
        "Objective  is to bring you up-to-speed on most core Python/programming syntax/capabilities **without** including packages"
      ],
      "metadata": {
        "id": "4_N6eeMixzNw"
      }
    },
    {
      "cell_type": "markdown",
      "source": [
        "# Say Hi with print"
      ],
      "metadata": {
        "id": "6RK0DZcG2AjG"
      }
    },
    {
      "cell_type": "code",
      "source": [
        "#First python\n",
        "print(\"hello world\") # hash makes a comment, will not be compiled"
      ],
      "metadata": {
        "colab": {
          "base_uri": "https://localhost:8080/"
        },
        "id": "no5hVjiaxoaY",
        "outputId": "edffd02e-fc1e-4a24-9694-3cd069e8ba9e"
      },
      "execution_count": null,
      "outputs": [
        {
          "output_type": "stream",
          "name": "stdout",
          "text": [
            "hello world\n"
          ]
        }
      ]
    },
    {
      "cell_type": "markdown",
      "source": [
        "# String Merge"
      ],
      "metadata": {
        "id": "ls3aH6BuyRhs"
      }
    },
    {
      "cell_type": "code",
      "source": [
        "# intro to string merge\n",
        "intro1 = \"hello\" #this is known as a variable\n",
        "intro2 = \"world\"\n",
        "print(intro1 + \" \" + intro2)"
      ],
      "metadata": {
        "id": "sqiBKsA2pS-8",
        "colab": {
          "base_uri": "https://localhost:8080/"
        },
        "outputId": "0cdc012a-97d1-417a-8974-42135a33c39a"
      },
      "execution_count": null,
      "outputs": [
        {
          "output_type": "stream",
          "name": "stdout",
          "text": [
            "hello world\n"
          ]
        }
      ]
    },
    {
      "cell_type": "markdown",
      "source": [
        "# List: Line up the elements"
      ],
      "metadata": {
        "id": "85atL-bAym7P"
      }
    },
    {
      "cell_type": "code",
      "source": [
        "# intro to list\n",
        "introArr = [\"hello\", \" \", \"world\"] #this is a list.\n",
        "print(\"this list has \" + str(len(introArr)) + \" elements\") #gives how many element in the list\n",
        "introArr[2] = \"class\" #elements in a list can be changed, but the length of a list cannot"
      ],
      "metadata": {
        "colab": {
          "base_uri": "https://localhost:8080/"
        },
        "id": "4PhdRl4zZo2A",
        "outputId": "f23cae22-bdd1-4b94-aa12-0658fe9c4ff0"
      },
      "execution_count": null,
      "outputs": [
        {
          "output_type": "stream",
          "name": "stdout",
          "text": [
            "this list has 3 elements\n",
            "1\n"
          ]
        }
      ]
    },
    {
      "cell_type": "markdown",
      "source": [
        "# Loop: Free your mind from repetition"
      ],
      "metadata": {
        "id": "QY-RG4x2yytp"
      }
    },
    {
      "cell_type": "code",
      "source": [
        "# intro to loop\n",
        "\n",
        "for introLine in introArr: #will loop through introArr\n",
        "  print(introLine,end='')\n",
        "\n"
      ],
      "metadata": {
        "id": "Xuqo_uG8i1bd"
      },
      "execution_count": null,
      "outputs": []
    },
    {
      "cell_type": "code",
      "source": [
        "i=0\n",
        "while i < len(introArr):\n",
        "  print(introArr[i])\n",
        "  i = i + 1"
      ],
      "metadata": {
        "id": "mI4hly-KV0Jy",
        "outputId": "a448993f-58d9-45a1-ec39-0bdd8792d9e0",
        "colab": {
          "base_uri": "https://localhost:8080/"
        }
      },
      "execution_count": null,
      "outputs": [
        {
          "output_type": "stream",
          "name": "stdout",
          "text": [
            "hello\n",
            " \n",
            "class\n"
          ]
        }
      ]
    },
    {
      "cell_type": "code",
      "source": [
        "# single line loop\n",
        "print([introLine for introLine in introArr])"
      ],
      "metadata": {
        "colab": {
          "base_uri": "https://localhost:8080/"
        },
        "id": "ooilPSgka5-i",
        "outputId": "1766c084-65c1-4eb1-f0d5-0c6de16f2fbc"
      },
      "execution_count": null,
      "outputs": [
        {
          "output_type": "stream",
          "name": "stdout",
          "text": [
            "['hello', ' ', 'class']\n"
          ]
        }
      ]
    },
    {
      "cell_type": "code",
      "source": [
        "# print it all together\n",
        "print(\"\".join([introLine for introLine in introArr]))"
      ],
      "metadata": {
        "id": "bSVEi2lFa6Dt",
        "outputId": "f36972ed-674c-427c-ab6d-8175ba0a23e5",
        "colab": {
          "base_uri": "https://localhost:8080/"
        }
      },
      "execution_count": null,
      "outputs": [
        {
          "output_type": "stream",
          "name": "stdout",
          "text": [
            "hello class\n"
          ]
        }
      ]
    },
    {
      "cell_type": "markdown",
      "source": [
        "# If: Bring in the logic"
      ],
      "metadata": {
        "id": "ehFqPsU9zkNl"
      }
    },
    {
      "cell_type": "code",
      "source": [
        "# if statement\n",
        "introArr = [\"hello\", \"H_EXTRA1\", \" \", \"H_EXTRA2\", \"world\"]\n",
        "for introLine in introArr:\n",
        "  if introLine[0:2] != \"H_\": # operator \"!=\" denotes does not equal, i.e. print if does not equal\n",
        "    print(introLine, end=\"\")"
      ],
      "metadata": {
        "colab": {
          "base_uri": "https://localhost:8080/"
        },
        "id": "9nKxqLfCcrg3",
        "outputId": "72673506-3d65-42ab-904a-1476abd51e47"
      },
      "execution_count": null,
      "outputs": [
        {
          "output_type": "stream",
          "name": "stdout",
          "text": [
            "hello world"
          ]
        }
      ]
    },
    {
      "cell_type": "code",
      "source": [
        "# if else statement\n",
        "arr = [-5, 2, 0, -1, -2.3, 5, 0.00015]\n",
        "for someNum in arr:\n",
        "  if someNum > 0:\n",
        "    print(str(someNum) + \" is greater than zero\") #str() converts the type of someNum to a string from integer (e.g. 5) or float (e.g. -2.3)\n",
        "  elif someNum < 0:\n",
        "    print(str(someNum) + \" is less than zero\")\n",
        "  else:\n",
        "    print(str(someNum) + \" is zero\") "
      ],
      "metadata": {
        "colab": {
          "base_uri": "https://localhost:8080/"
        },
        "id": "37hGYh0mddnD",
        "outputId": "48aaa1b1-088e-4b66-b2ae-251c5b935b80"
      },
      "execution_count": null,
      "outputs": [
        {
          "output_type": "stream",
          "name": "stdout",
          "text": [
            "-5 is less than zero\n",
            "2 is greater than zero\n",
            "0 is zero\n",
            "-1 is less than zero\n",
            "-2.3 is less than zero\n",
            "5 is greater than zero\n",
            "0.00015 is greater than zero\n"
          ]
        }
      ]
    },
    {
      "cell_type": "markdown",
      "source": [
        "# data type\n",
        "Identity of the data"
      ],
      "metadata": {
        "id": "y0TjdP53zoR-"
      }
    },
    {
      "cell_type": "code",
      "source": [
        "# some data types\n",
        "a = 2 #integer\n",
        "print(a, \" \", type(a)) \n",
        "a = \"hello\" #string\n",
        "print(a, \" \", type(a))\n",
        "a =  1 > 2 #boolean, i.e. true or false\n",
        "print(a, \" \", type(a))\n",
        "a = 5.3 #float\n",
        "print(a, \" \", type(a))"
      ],
      "metadata": {
        "colab": {
          "base_uri": "https://localhost:8080/"
        },
        "id": "Fu6JJ8LRgpq_",
        "outputId": "8d4f4403-fdbe-436e-ac3b-8c5db87730d4"
      },
      "execution_count": null,
      "outputs": [
        {
          "output_type": "stream",
          "name": "stdout",
          "text": [
            "2   <class 'int'>\n",
            "hello   <class 'str'>\n",
            "False   <class 'bool'>\n",
            "5.3   <class 'float'>\n"
          ]
        }
      ]
    },
    {
      "cell_type": "markdown",
      "source": [
        "# operators"
      ],
      "metadata": {
        "id": "3zYeWDidzq8A"
      }
    },
    {
      "cell_type": "code",
      "source": [
        "# number operators\n",
        "import numpy as np\n",
        "arr = [-5, 2, 0, -1, -2.3, 5, 0.00015]\n",
        "print(arr[0] + arr[-1]) ###index 0 is first element of list. index -1 is last element of list\n",
        "print(arr[0] - arr[-1]) \n",
        "print(arr[0] * arr[-1]) #multiply\n",
        "print(arr[0] / arr[-1]) #divide\n",
        "print(arr[0] // arr[-1]) #floor divide, i.e. rounds down\n",
        "print(np.ceil((arr[0]/arr[-1])))\n",
        "print(arr[1] % arr[-2]) #remainder\n",
        "print(arr[1] ** arr[-2]) #exponent, i.e. arr[0]^arr[-1] \n"
      ],
      "metadata": {
        "colab": {
          "base_uri": "https://localhost:8080/"
        },
        "id": "jJVulxE4e6NV",
        "outputId": "c9095313-bf54-45aa-b9c6-6bdbfbe672f0"
      },
      "execution_count": null,
      "outputs": [
        {
          "output_type": "stream",
          "name": "stdout",
          "text": [
            "-4.99985\n",
            "-5.00015\n",
            "-0.0007499999999999999\n",
            "-33333.333333333336\n",
            "-33334.0\n",
            "-33333.0\n",
            "2\n",
            "32\n"
          ]
        }
      ]
    },
    {
      "cell_type": "markdown",
      "source": [
        "# Set: Get unique items"
      ],
      "metadata": {
        "id": "8bnEGxtQzvOP"
      }
    },
    {
      "cell_type": "code",
      "source": [
        "# sets \n",
        "set1 = {\"abc\", 34, True, 40, \"male\"} #sets can contain different data types\n",
        "print(set1)\n",
        "set2 = {\"abc\", 34, True, 40, \"male\", \"male\"} #sets only contain unique elements. duplicates will be removed\n",
        "print(set2)\n",
        "duplicateArr = [\"abc\", \"def\", \"ghi\", \"abc\"] #sets can be used to remove duplicates from lists\n",
        "print(duplicateArr)\n",
        "print(list(set(duplicateArr)))"
      ],
      "metadata": {
        "colab": {
          "base_uri": "https://localhost:8080/"
        },
        "id": "otuEbvq9hhHV",
        "outputId": "a27dea49-d9c7-46b3-c33b-e41738664882"
      },
      "execution_count": null,
      "outputs": [
        {
          "output_type": "stream",
          "name": "stdout",
          "text": [
            "{True, 34, 40, 'abc', 'male'}\n",
            "{True, 34, 40, 'abc', 'male'}\n",
            "['abc', 'def', 'ghi', 'abc']\n",
            "['ghi', 'def', 'abc']\n"
          ]
        }
      ]
    },
    {
      "cell_type": "code",
      "source": [
        "string = \"abcdab\"\n",
        "print(list(string))\n",
        "print(set(string))"
      ],
      "metadata": {
        "id": "34vD8kZ5dPsr",
        "outputId": "2453ebea-eb7f-471b-82b1-f20befb63dbd",
        "colab": {
          "base_uri": "https://localhost:8080/"
        }
      },
      "execution_count": null,
      "outputs": [
        {
          "output_type": "stream",
          "name": "stdout",
          "text": [
            "['a', 'b', 'c', 'd', 'a', 'b']\n",
            "{'c', 'd', 'a', 'b'}\n"
          ]
        }
      ]
    },
    {
      "cell_type": "markdown",
      "source": [
        "# dictionary"
      ],
      "metadata": {
        "id": "JbybSD6pz1E1"
      }
    },
    {
      "cell_type": "code",
      "source": [
        "# dict (dictionary)\n",
        "thisdict = { # store data values in key:value pairs\n",
        "  \"brand\": \"Ford\",\n",
        "  \"model\": \"Mustang\",\n",
        "  \"year\": 1964\n",
        "}\n",
        "print(thisdict[\"brand\"])\n",
        "\n",
        "thisdict2 = { #can also contain list\n",
        "  \"brand\": \"Ford\",\n",
        "  \"electric\": False,\n",
        "  #\"year\": 1964,\n",
        "  \"colors\": [\"red\", \"white\", \"blue\"]\n",
        "}\n",
        "print(thisdict2[\"colors\"][2])\n",
        "\n",
        "thisdict2[\"colors\"][2] = \"orange\" #dict entries can be changed\n",
        "print(thisdict2)"
      ],
      "metadata": {
        "colab": {
          "base_uri": "https://localhost:8080/"
        },
        "id": "4xyaHZsMj7_6",
        "outputId": "e2270c08-0a7a-4967-ab09-d1fdd5166031"
      },
      "execution_count": null,
      "outputs": [
        {
          "output_type": "stream",
          "name": "stdout",
          "text": [
            "Ford\n",
            "blue\n",
            "{'brand': 'Ford', 'electric': False, 'colors': ['red', 'white', 'orange']}\n"
          ]
        }
      ]
    },
    {
      "cell_type": "code",
      "source": [
        "print(type('michael'))\n",
        "print(type(\"michael\"))"
      ],
      "metadata": {
        "id": "b3iDwTyVfCVC",
        "outputId": "86fb76ec-1723-44fe-c703-2a851eae20ef",
        "colab": {
          "base_uri": "https://localhost:8080/"
        }
      },
      "execution_count": null,
      "outputs": [
        {
          "output_type": "stream",
          "name": "stdout",
          "text": [
            "<class 'str'>\n",
            "<class 'str'>\n"
          ]
        }
      ]
    },
    {
      "cell_type": "markdown",
      "source": [
        "# function: build your own tools\n",
        "Wrap up your code for repetitive usage\n",
        "\n",
        "(Beware of Global & Local Variables)"
      ],
      "metadata": {
        "id": "y21df4vSz44C"
      }
    },
    {
      "cell_type": "code",
      "source": [
        "# functions. just like you can use existing functions like \"print\", \"join\", \"len\", etc., you can also make your own\n",
        "def makeBigger(someNum):\n",
        "  biggerNum = someNum + 53\n",
        "  return biggerNum\n",
        "a = 5\n",
        "b = makeBigger(a)\n",
        "print(a, b)\n",
        "\n",
        "def makeBiggerSpecific(someNum, someOtherNum): #can contain numerous arguments (inputs)\n",
        "  return someNum ** someOtherNum\n",
        "a = 5\n",
        "b = 3\n",
        "c = makeBiggerSpecific(a,b)\n",
        "print(a, b, c)\n",
        "\n",
        "def makeBiggerMoreSpecific(someNum, someOtherNum): #can contain numerous arguments (inputs)\n",
        "  return (someNum ** someOtherNum, someNum + someOtherNum)\n",
        "  a = 123\n",
        "(c, d) = makeBiggerMoreSpecific(a,b)\n",
        "print(c, d)"
      ],
      "metadata": {
        "colab": {
          "base_uri": "https://localhost:8080/"
        },
        "id": "wvaADybNk6OB",
        "outputId": "009bbc7d-9610-409b-939b-1a96bc82384b"
      },
      "execution_count": null,
      "outputs": [
        {
          "output_type": "stream",
          "name": "stdout",
          "text": [
            "5 58\n",
            "5 3 125\n",
            "125 8\n"
          ]
        }
      ]
    },
    {
      "cell_type": "markdown",
      "source": [
        "# tutorial exercise\n",
        "**Task**\n",
        "\n",
        "given some amount of money (e.g. \\$9.42), write a function that can PRINT\n",
        "1. the amount of bills and coins for this amount (e.g. 1x \\$5, 2x \\$ 2, 1x 25¢, 1x 10¢, 1x 5¢, 2x 1¢)\n",
        "2. (bonus) whether this is the minimum number of coins/bills \n",
        "3. (bonus) how many possible combinations of coins/bills exist\n",
        "4. (bonus) re-write this function if there is a limited number of bills/coins, (e.g. only 1x are available of \\$5, \\$2, \\$1)"
      ],
      "metadata": {
        "id": "uSEDnfETpcXk"
      }
    },
    {
      "cell_type": "code",
      "source": [],
      "metadata": {
        "id": "BaXDELU_16O0"
      },
      "execution_count": null,
      "outputs": []
    }
  ]
}