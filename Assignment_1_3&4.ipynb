{
  "nbformat": 4,
  "nbformat_minor": 0,
  "metadata": {
    "colab": {
      "provenance": [],
      "authorship_tag": "ABX9TyMObkUDSk+Z0daGwFxP2rFt",
      "include_colab_link": true
    },
    "kernelspec": {
      "name": "python3",
      "display_name": "Python 3"
    },
    "language_info": {
      "name": "python"
    }
  },
  "cells": [
    {
      "cell_type": "markdown",
      "metadata": {
        "id": "view-in-github",
        "colab_type": "text"
      },
      "source": [
        "<a href=\"https://colab.research.google.com/github/bluebynick/CEE-9730-Data-Science-for-Geotechnical-Engineers/blob/Assignments/Assignment_1_3%264.ipynb\" target=\"_parent\"><img src=\"https://colab.research.google.com/assets/colab-badge.svg\" alt=\"Open In Colab\"/></a>"
      ]
    },
    {
      "cell_type": "code",
      "execution_count": null,
      "metadata": {
        "id": "GkDiR95dBIux"
      },
      "outputs": [],
      "source": [
        "import pandas as pd\n",
        "import matplotlib.pyplot as plt\n",
        "\n",
        "# load csv\n",
        "readFile = pd.read_csv(\"CLAY_10_7490_TC304.csv\")\n",
        "\n",
        "# make a single Su column (average across tests if there are many)\n",
        "df[\"Su_mean\"] = df[[\"su,CIUC (kN/m2)\", \"su,CK0UC (kN/m2)\"]].mean(axis=1)\n",
        "\n",
        "# Q3 – histogram of Su for each soil type\n",
        "for st in df[\"soil_type\"].dropna().unique():\n",
        "    data = df.loc[df[\"soil_type\"] == st, \"Su_mean\"].dropna()\n",
        "    plt.hist(data, bins=20, edgecolor='black')\n",
        "    plt.title(f\"Su histogram – {st}\")\n",
        "    plt.xlabel(\"Su (kPa)\")\n",
        "    plt.ylabel(\"Count\")\n",
        "    plt.show()\n",
        "\n",
        "# Q4 – histogram of OCR\n",
        "if \"OCR\" not in df.columns:\n",
        "    df[\"OCR\"] = df[\"preconsolidation_pressure\"] / df[\"sigma_v0\"]\n",
        "\n",
        "plt.hist(df[\"OCR\"].dropna(), bins=30, edgecolor='black')\n",
        "plt.title(\"OCR histogram\")\n",
        "plt.xlabel(\"OCR\")\n",
        "plt.ylabel(\"Count\")\n",
        "plt.show()\n",
        "\n",
        "print(\"Mean OCR:\", df[\"OCR\"].mean())\n",
        "print(\"Std OCR:\", df[\"OCR\"].std())"
      ]
    }
  ]
}