{
  "nbformat": 4,
  "nbformat_minor": 0,
  "metadata": {
    "colab": {
      "provenance": [],
      "collapsed_sections": [],
      "toc_visible": true
    },
    "kernelspec": {
      "name": "python3",
      "display_name": "Python 3"
    },
    "language_info": {
      "name": "python"
    }
  },
  "cells": [
    {
      "cell_type": "code",
      "source": [
        "# coin example\n",
        "def printbills(startMoney, bills):\n",
        "  print(\"Starting: \" + str(startMoney))\n",
        "  startMoney = startMoney + 0.0000001\n",
        "  for bill in bills:\n",
        "    nbill = startMoney // bill\n",
        "    remainMoney = startMoney % bill\n",
        "    print('There are ' + str(int(nbill)) + \"x\" + str(bill))\n",
        "    startMoney = remainMoney\n",
        "\n",
        "start = 105.24\n",
        "bills = [100., 50., 20., 10., 5., 2., 1., 0.25, 0.1, 0.05, 0.01]\n",
        "printbills(start, bills)\n",
        "\n"
      ],
      "metadata": {
        "colab": {
          "base_uri": "https://localhost:8080/"
        },
        "id": "uuyAUTOHSpHN",
        "outputId": "d9a453ab-6735-4948-98cb-0cd72d4aefef"
      },
      "execution_count": 30,
      "outputs": [
        {
          "output_type": "stream",
          "name": "stdout",
          "text": [
            "Starting: 105.24\n",
            "There are 1x100.0\n",
            "There are 0x50.0\n",
            "There are 0x20.0\n",
            "There are 0x10.0\n",
            "There are 1x5.0\n",
            "There are 0x2.0\n",
            "There are 0x1.0\n",
            "There are 0x0.25\n",
            "There are 2x0.1\n",
            "There are 0x0.05\n",
            "There are 4x0.01\n"
          ]
        }
      ]
    },
    {
      "cell_type": "code",
      "source": [
        "list1 = [\"hi\",1, 2.5]\n",
        "for ele in list1:\n",
        "  print(type(ele))\n"
      ],
      "metadata": {
        "colab": {
          "base_uri": "https://localhost:8080/"
        },
        "id": "D0UdBQe4W4T4",
        "outputId": "75ab7b8e-3062-414e-8cc1-68a154fedaed"
      },
      "execution_count": 12,
      "outputs": [
        {
          "output_type": "stream",
          "name": "stdout",
          "text": [
            "<class 'str'>\n",
            "<class 'int'>\n",
            "<class 'float'>\n"
          ]
        }
      ]
    },
    {
      "cell_type": "markdown",
      "source": [
        "# Introduce the array\n",
        "\n",
        "<font color='yellow'>**numpy**</font> package required\n",
        "\n",
        "* <font color='orange'>```import numpy as np```</font> gives you access to all functions inside the package\n",
        "\n",
        "* And simplify the referral of it with nickname <font color='orange'>```np```</font>\n",
        "\n",
        "All elements have the same data type"
      ],
      "metadata": {
        "id": "Y3dyBu322y6d"
      }
    },
    {
      "cell_type": "code",
      "execution_count": 13,
      "metadata": {
        "id": "59kFcPvBm0qE",
        "colab": {
          "base_uri": "https://localhost:8080/"
        },
        "outputId": "69874160-81e0-4bcb-fe67-dfb19a8f7e62"
      },
      "outputs": [
        {
          "output_type": "stream",
          "name": "stdout",
          "text": [
            "[[ 1.   -2.    0.  ]\n",
            " [ 5.    1.43 -0.2 ]]\n",
            "\n",
            "(2, 3)\n",
            "\n"
          ]
        }
      ],
      "source": [
        "## numpy arrays\n",
        "import numpy as np\n",
        "a = [[1., -2., 0.],\n",
        " [5., 1.43, -0.2]] ###2D list\n",
        "\n",
        "a = np.array(a) ###converts to numpy array\n",
        "print(a,end=\"\\n\\n\")\n",
        "print(a.shape,end=\"\\n\\n\")"
      ]
    },
    {
      "cell_type": "markdown",
      "source": [
        "# Create/Initialize array"
      ],
      "metadata": {
        "id": "0YOlRDnJ3rF2"
      }
    },
    {
      "cell_type": "code",
      "source": [
        "## initialise numpy arrays\n",
        "a = np.zeros((3, 4)) # 2D array, all zeros\n",
        "print(a,end=\"\\n\\n\")\n",
        "\n",
        "b = np.ones((2, 3, 4), dtype=np.int16) # 3D array, all ones\n",
        "print(b,end=\"\\n\\n\")\n",
        "c = np.random.rand(3,4) # random numbers between 0, 1\n",
        "print(c,end=\"\\n\\n\")\n",
        "d = np.arange(10, 30, 5) # numbers between 10 and 30 (not including 30), spacing of 5\n",
        "print(d,end=\"\\n\\n\")\n",
        "e = np.linspace(0, 2 * np.pi, 100)\n",
        "print(e,end=\"\\n\\n\")  "
      ],
      "metadata": {
        "id": "7HRY8gVzntTw",
        "colab": {
          "base_uri": "https://localhost:8080/"
        },
        "outputId": "3cd1e3f1-2b07-4485-c14a-7abeccc0f5d8"
      },
      "execution_count": 14,
      "outputs": [
        {
          "output_type": "stream",
          "name": "stdout",
          "text": [
            "[[0. 0. 0. 0.]\n",
            " [0. 0. 0. 0.]\n",
            " [0. 0. 0. 0.]]\n",
            "\n",
            "[[[1 1 1 1]\n",
            "  [1 1 1 1]\n",
            "  [1 1 1 1]]\n",
            "\n",
            " [[1 1 1 1]\n",
            "  [1 1 1 1]\n",
            "  [1 1 1 1]]]\n",
            "\n",
            "[[0.39261922 0.50587398 0.75672673 0.60869009]\n",
            " [0.10392664 0.61469136 0.68303524 0.80776599]\n",
            " [0.25507073 0.14969858 0.12507004 0.88549069]]\n",
            "\n",
            "[10 15 20 25]\n",
            "\n",
            "[0.         0.06346652 0.12693304 0.19039955 0.25386607 0.31733259\n",
            " 0.38079911 0.44426563 0.50773215 0.57119866 0.63466518 0.6981317\n",
            " 0.76159822 0.82506474 0.88853126 0.95199777 1.01546429 1.07893081\n",
            " 1.14239733 1.20586385 1.26933037 1.33279688 1.3962634  1.45972992\n",
            " 1.52319644 1.58666296 1.65012947 1.71359599 1.77706251 1.84052903\n",
            " 1.90399555 1.96746207 2.03092858 2.0943951  2.15786162 2.22132814\n",
            " 2.28479466 2.34826118 2.41172769 2.47519421 2.53866073 2.60212725\n",
            " 2.66559377 2.72906028 2.7925268  2.85599332 2.91945984 2.98292636\n",
            " 3.04639288 3.10985939 3.17332591 3.23679243 3.30025895 3.36372547\n",
            " 3.42719199 3.4906585  3.55412502 3.61759154 3.68105806 3.74452458\n",
            " 3.8079911  3.87145761 3.93492413 3.99839065 4.06185717 4.12532369\n",
            " 4.1887902  4.25225672 4.31572324 4.37918976 4.44265628 4.5061228\n",
            " 4.56958931 4.63305583 4.69652235 4.75998887 4.82345539 4.88692191\n",
            " 4.95038842 5.01385494 5.07732146 5.14078798 5.2042545  5.26772102\n",
            " 5.33118753 5.39465405 5.45812057 5.52158709 5.58505361 5.64852012\n",
            " 5.71198664 5.77545316 5.83891968 5.9023862  5.96585272 6.02931923\n",
            " 6.09278575 6.15625227 6.21971879 6.28318531]\n",
            "\n"
          ]
        }
      ]
    },
    {
      "cell_type": "markdown",
      "source": [
        "# Visualize arrays with plots\n",
        "\n"
      ],
      "metadata": {
        "id": "FOtNK0wh6Ydr"
      }
    },
    {
      "cell_type": "markdown",
      "source": [
        "## 2D line charts\n",
        "\n",
        "<font color='yellow'>**matplotlib**</font> package required\n",
        "\n",
        "<font color='orange'>```import matplotlib.pyplot as plt```</font>  enables you call all pre-defined function in <font color='orange'>```matplotlib.pyplot```</font> with a shorter nickname <font color='orange'>``` plt```</font>\n"
      ],
      "metadata": {
        "id": "NNkDvvXC6uLd"
      }
    },
    {
      "cell_type": "code",
      "source": [
        "import matplotlib.pyplot as plt # plotting package!\n",
        "x = np.arange(0,101,10)\n",
        "y2 = np.random.rand(x.size)\n",
        "y3 = np.arange(0,40,10)\n",
        "y = x ** 2\n",
        "plt.plot(x,y) # we can plot lines!\n",
        "# plt.xlim(0,50) # limit axes"
      ],
      "metadata": {
        "id": "_l13_hsmwNJJ",
        "colab": {
          "base_uri": "https://localhost:8080/",
          "height": 282
        },
        "outputId": "85eda682-b871-4e9e-a6df-e1ff940de2c6"
      },
      "execution_count": 22,
      "outputs": [
        {
          "output_type": "execute_result",
          "data": {
            "text/plain": [
              "[<matplotlib.lines.Line2D at 0x7fc171067ad0>]"
            ]
          },
          "metadata": {},
          "execution_count": 22
        },
        {
          "output_type": "display_data",
          "data": {
            "text/plain": [
              "<Figure size 432x288 with 1 Axes>"
            ],
            "image/png": "[encoded data removed]"
          },
          "metadata": {
            "needs_background": "light"
          }
        }
      ]
    },
    {
      "cell_type": "code",
      "source": [
        "plt.scatter(x,y) # can also plot as scatter"
      ],
      "metadata": {
        "id": "X5Hb5gEwwaU0"
      },
      "execution_count": null,
      "outputs": []
    },
    {
      "cell_type": "code",
      "source": [
        "plt.scatter(x,y, s=100, c = 'magenta') # can change colour and size of plots"
      ],
      "metadata": {
        "id": "mcNYS3IYwc8e"
      },
      "execution_count": null,
      "outputs": []
    },
    {
      "cell_type": "markdown",
      "source": [
        "## 2D contour"
      ],
      "metadata": {
        "id": "-xrcscsY61CL"
      }
    },
    {
      "cell_type": "code",
      "source": [
        "x = np.arange(-100,100,10)\n",
        "y = np.arange(-100,100,10)\n",
        "xx, yy = np.meshgrid(x,y)\n",
        "z = xx ** 2 + yy ** 2\n",
        "plt.contourf(xx,yy,z) # can also plot contours \n",
        "plt.colorbar()\n",
        "plt.show()"
      ],
      "metadata": {
        "id": "6Zp0MKUFwqYO",
        "colab": {
          "base_uri": "https://localhost:8080/",
          "height": 269
        },
        "outputId": "b1c0bfcf-df60-4e7e-ecc0-52622d6783bc"
      },
      "execution_count": 28,
      "outputs": [
        {
          "output_type": "display_data",
          "data": {
            "text/plain": [
              "<Figure size 432x288 with 2 Axes>"
            ],
            "image/png": "[encoded data removed]"
          },
          "metadata": {
            "needs_background": "light"
          }
        }
      ]
    },
    {
      "cell_type": "markdown",
      "source": [
        "## 3D plot"
      ],
      "metadata": {
        "id": "2kjZxy-g-jcD"
      }
    },
    {
      "cell_type": "code",
      "source": [
        "fig = plt.figure() # can also plot in 3D\n",
        "ax = plt.axes(projection='3d')\n",
        "ax.plot_surface(xx, yy, z,cmap=\"hot\")"
      ],
      "metadata": {
        "id": "2sFN2s_mxZ4k",
        "colab": {
          "base_uri": "https://localhost:8080/",
          "height": 265
        },
        "outputId": "1bf6f1d6-0b4a-47a0-faee-e39f3a83c123"
      },
      "execution_count": 31,
      "outputs": [
        {
          "output_type": "execute_result",
          "data": {
            "text/plain": [
              "<mpl_toolkits.mplot3d.art3d.Poly3DCollection at 0x7fc16ca3cf50>"
            ]
          },
          "metadata": {},
          "execution_count": 31
        },
        {
          "output_type": "display_data",
          "data": {
            "text/plain": [
              "<Figure size 432x288 with 1 Axes>"
            ],
            "image/png": "[encoded data removed]"
          },
          "metadata": {
            "needs_background": "light"
          }
        }
      ]
    },
    {
      "cell_type": "markdown",
      "source": [
        "## histogram \n",
        "(global distribution)"
      ],
      "metadata": {
        "id": "8oKLumDl689L"
      }
    },
    {
      "cell_type": "code",
      "source": [
        "a = np.random.randn(1000) # generate random gaussian numbers \n",
        "plt.hist(a) # plot histogram"
      ],
      "metadata": {
        "id": "-h9fPufzyFF6",
        "colab": {
          "base_uri": "https://localhost:8080/",
          "height": 352
        },
        "outputId": "4a7151d5-a48a-4ce0-f4e9-1fa2d983e112"
      },
      "execution_count": 36,
      "outputs": [
        {
          "output_type": "execute_result",
          "data": {
            "text/plain": [
              "(array([  4.,  15.,  50., 132., 243., 276., 158.,  93.,  23.,   6.]),\n",
              " array([-3.32360981, -2.6764688 , -2.02932779, -1.38218678, -0.73504576,\n",
              "        -0.08790475,  0.55923626,  1.20637728,  1.85351829,  2.5006593 ,\n",
              "         3.14780032]),\n",
              " <a list of 10 Patch objects>)"
            ]
          },
          "metadata": {},
          "execution_count": 36
        },
        {
          "output_type": "display_data",
          "data": {
            "text/plain": [
              "<Figure size 432x288 with 1 Axes>"
            ],
            "image/png": "[encoded data removed]"
          },
          "metadata": {
            "needs_background": "light"
          }
        }
      ]
    },
    {
      "cell_type": "markdown",
      "source": [
        "# Back to array"
      ],
      "metadata": {
        "id": "LTYrUbZx8ZzK"
      }
    },
    {
      "cell_type": "markdown",
      "source": [
        "## Array operations"
      ],
      "metadata": {
        "id": "c0uVFTsb7I3i"
      }
    },
    {
      "cell_type": "code",
      "source": [
        "## operations on numpy arrays\n",
        "c = np.random.rand(3,4) # random numbers between 0, 1\n",
        "f = np.sin(c) # take sin or cos of array\n",
        "print(f,end=\"\\n\\n\")\n",
        "print(np.sum(c),end=\"\\n\\n\") #can sum, calculate mean, median, etc\n",
        "print(np.mean(c),end=\"\\n\\n\")\n",
        "print(np.median(c),end=\"\\n\\n\")\n",
        "print(np.std(c),end=\"\\n\\n\")\n",
        "\n",
        "g = np.random.rand(3) #random vector\n",
        "h = np.random.rand(3) #random vector\n",
        "i = np.dot(g,h) #dot product\n",
        "print(i,end=\"\\n\\n\")\n",
        "\n",
        "j = np.cross(g,h) #cross product\n",
        "print(j,end=\"\\n\\n\")\n",
        "\n",
        "k = np.array([[1, 0],\n",
        "              [0, 1]])\n",
        "l = np.array([[4, 1],\n",
        "              [5, 2]])\n",
        "m = np.matmul(k, l) #matrix multiply\n",
        "print(m, end=\"\\n\\n\")\n",
        "\n",
        "print(np.max(l),end=\"\\n\\n\")\n",
        "print(np.argmax(l),end=\"\\n\\n\")"
      ],
      "metadata": {
        "id": "XVaKKwpJpYNX",
        "colab": {
          "base_uri": "https://localhost:8080/"
        },
        "outputId": "8e185b96-48a8-4457-9555-8000d43dd273"
      },
      "execution_count": 38,
      "outputs": [
        {
          "output_type": "stream",
          "name": "stdout",
          "text": [
            "[[0.58514493 0.71775799 0.21747301 0.22585064]\n",
            " [0.77813677 0.14938396 0.71122606 0.73496407]\n",
            " [0.12423997 0.58403032 0.20447797 0.25696354]]\n",
            "\n",
            "5.7452263647496915\n",
            "\n",
            "0.47876886372914096\n",
            "\n",
            "0.44178193769942947\n",
            "\n",
            "0.2916462849145615\n",
            "\n",
            "0.5438507931987222\n",
            "\n",
            "[-0.24451513 -0.26262379  0.19963443]\n",
            "\n",
            "[[4 1]\n",
            " [5 2]]\n",
            "\n",
            "5\n",
            "\n",
            "2\n",
            "\n"
          ]
        }
      ]
    },
    {
      "cell_type": "markdown",
      "source": [
        "## Array manipulation\n"
      ],
      "metadata": {
        "id": "jy-jjJI_7RRs"
      }
    },
    {
      "cell_type": "code",
      "source": [
        "## array manipulation\n",
        "a = np.random.rand(5,7)\n",
        "b = a[2:4,5:] # b is a subset of a, \"5:\" here means 5th element until the end\n",
        "print(a,end=\"\\n\\n\")\n",
        "print(b,end=\"\\n\\n\")\n",
        "\n",
        "c = b.reshape((1,4)) #reshape b into shape (1,4)\n",
        "print(c,end=\"\\n\\n\")\n",
        "d = b.reshape((-1,1)) # -1 here means \"whatever size fits for other dimensions\" \n",
        "print(d,end=\"\\n\\n\")\n",
        "\n",
        "e = a[:2,:2]\n",
        "f = np.vstack((b,e)) # stack b and e arrays into single array\n",
        "print(f,end=\"\\n\\n\")\n",
        "\n",
        "g = f[f > 0.5] # only keep elements of f greater than 0.5\n",
        "print(g,end=\"\\n\\n\")"
      ],
      "metadata": {
        "id": "Yd7G3rzrs5qe",
        "colab": {
          "base_uri": "https://localhost:8080/"
        },
        "outputId": "ee3d7690-881a-47bb-ed12-f38c6e8e0984"
      },
      "execution_count": 39,
      "outputs": [
        {
          "output_type": "stream",
          "name": "stdout",
          "text": [
            "[[0.49247149 0.35999122 0.2449524  0.78417796 0.81915808 0.3483163\n",
            "  0.05972008]\n",
            " [0.0113607  0.29745793 0.80281449 0.19571014 0.23585751 0.26518957\n",
            "  0.86662771]\n",
            " [0.97802439 0.35223306 0.66901515 0.44172837 0.55666732 0.9667161\n",
            "  0.83014604]\n",
            " [0.72683963 0.85186606 0.2149486  0.69873723 0.21143221 0.48209476\n",
            "  0.90012048]\n",
            " [0.1843461  0.72979024 0.19087334 0.54502757 0.60559503 0.21253192\n",
            "  0.46157767]]\n",
            "\n",
            "[[0.9667161  0.83014604]\n",
            " [0.48209476 0.90012048]]\n",
            "\n",
            "[[0.9667161  0.83014604 0.48209476 0.90012048]]\n",
            "\n",
            "[[0.9667161 ]\n",
            " [0.83014604]\n",
            " [0.48209476]\n",
            " [0.90012048]]\n",
            "\n",
            "[[0.9667161  0.83014604]\n",
            " [0.48209476 0.90012048]\n",
            " [0.49247149 0.35999122]\n",
            " [0.0113607  0.29745793]]\n",
            "\n",
            "[0.9667161  0.83014604 0.90012048]\n",
            "\n"
          ]
        }
      ]
    },
    {
      "cell_type": "markdown",
      "source": [
        "# review previous tutorial"
      ],
      "metadata": {
        "id": "Xyb7vuyQ6mgW"
      }
    },
    {
      "cell_type": "markdown",
      "source": [
        "# Coding tips\n",
        "\n",
        "## function hints\n",
        "\n",
        "* hover cursor on the function or variable to see Docstrings (documents of the function or introduction of the variables)\n",
        "* can also add a <font color='orange'>```?```</font> after the function "
      ],
      "metadata": {
        "id": "rdH--0Bp_fxx"
      }
    },
    {
      "cell_type": "code",
      "source": [
        "print?"
      ],
      "metadata": {
        "id": "HzkiHaEE_faT"
      },
      "execution_count": null,
      "outputs": []
    },
    {
      "cell_type": "markdown",
      "source": [
        "* most functions documents can be found on google (You may also find reference codes from others)\n",
        "  * Same technic works for debugging, too\n",
        "  * As long as you <font color='magenta'>understand</font> what is the code is doing, you are not copying."
      ],
      "metadata": {
        "id": "wvAmcsONBeGw"
      }
    },
    {
      "cell_type": "code",
      "source": [],
      "metadata": {
        "id": "P6goykSt6qQM"
      },
      "execution_count": null,
      "outputs": []
    }
  ]
}