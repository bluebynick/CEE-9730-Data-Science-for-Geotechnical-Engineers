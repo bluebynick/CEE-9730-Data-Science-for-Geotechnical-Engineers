{
  "nbformat": 4,
  "nbformat_minor": 0,
  "metadata": {
    "colab": {
      "provenance": []
    },
    "kernelspec": {
      "name": "python3",
      "display_name": "Python 3"
    },
    "language_info": {
      "name": "python"
    }
  },
  "cells": [
    {
      "cell_type": "code",
      "execution_count": null,
      "metadata": {
        "id": "vhbv9TMsRE_S"
      },
      "outputs": [],
      "source": [
        "## Helper functions\n",
        "from __future__ import print_function\n",
        "import numpy as np\n",
        "import matplotlib.pyplot as plt\n",
        "\n",
        "import matplotlib\n",
        "matplotlib.rcParams['mathtext.fontset'] = 'stix'\n",
        "matplotlib.rcParams['font.family'] = 'STIXGeneral'\n",
        "matplotlib.rcParams.update({'font.size': 18})\n",
        "\n",
        "\n",
        "def plot_original_data():\n",
        "    x, y = np.loadtxt(\"4_learning.txt\", delimiter= \"\\t\", unpack = True)\n",
        "\n",
        "    plt.scatter(x, y, color='#1f77b4', marker='o')\n",
        "\n",
        "    plt.xlabel(\"Spendings, M$\")\n",
        "    plt.ylabel(\"Sales, Units\")\n",
        "    plt.title(\"Sales as a function of radio ad spendings.\")\n",
        "    plt.show()\n",
        "    # fig1 = plt.gcf()\n",
        "    # fig1.subplots_adjust(top = 0.98, bottom = 0.1, right = 0.98, left = 0.08, hspace = 0, wspace = 0)\n",
        "    # fig1.savefig('gradient_descent-1.eps', format='eps', dpi=150, bbox_inches = 'tight', pad_inches = 0)\n",
        "    # fig1.savefig('gradient_descent-1.pdf', format='pdf', dpi=150, bbox_inches = 'tight', pad_inches = 0)\n",
        "    # fig1.savefig('gradient_descent-1.png', dpi=150, bbox_inches = 'tight', pad_inches = 0)\n",
        "\n",
        "def update_w_and_b(spendings, sales, w, b, alpha):\n",
        "    dr_dw = 0.0\n",
        "    dr_db = 0.0\n",
        "    N = len(spendings)\n",
        "\n",
        "    for i in range(N):\n",
        "        dr_dw += -2 * spendings[i] * (sales[i] - (w * spendings[i] + b))\n",
        "        dr_db += -2 * (sales[i] - (w * spendings[i] + b))\n",
        "\n",
        "    # update w and b\n",
        "    w = w - (dr_dw/float(N)) * alpha\n",
        "    b = b - (dr_db/float(N)) * alpha\n",
        "\n",
        "    return w, b\n",
        "\n",
        "def train(spendings, sales, w, b, alpha, epochs):\n",
        "    image_counter = 2;\n",
        "    loss_log = []\n",
        "    for e in range(epochs):\n",
        "        w, b = update_w_and_b(spendings, sales, w, b, alpha)\n",
        "        new_loss = loss(spendings, sales, w, b)\n",
        "        loss_log.append(new_loss)\n",
        "        # log the progress\n",
        "        if (e == 0) or (e < 3000 and e % 400 == 0) or (e % 3000 == 0):\n",
        "            print(\"epoch: \", str(e), \"loss: \"+str(new_loss))\n",
        "            print(\"w, b: \", w, b)\n",
        "            plt.figure(image_counter)\n",
        "            axes = plt.gca()\n",
        "            axes.set_xlim([0,50])\n",
        "            axes.set_ylim([0,30])\n",
        "            plt.scatter(spendings, sales)\n",
        "            X_plot = np.linspace(0,50,50)\n",
        "            plt.plot(X_plot, X_plot*w + b)\n",
        "            plt.show()\n",
        "            fig1 = plt.gcf()\n",
        "            fig1.subplots_adjust(top = 0.98, bottom = 0.1, right = 0.98, left = 0.08, hspace = 0, wspace = 0)\n",
        "            fig1.savefig('gradient_descent-' + str(image_counter) + '.eps', format='eps', dpi=1000, bbox_inches = 'tight', pad_inches = 0)\n",
        "            fig1.savefig('gradient_descent-' + str(image_counter) + '.pdf', format='pdf', dpi=1000, bbox_inches = 'tight', pad_inches = 0)\n",
        "            fig1.savefig('gradient_descent-' + str(image_counter) + '.png', dpi=150, bbox_inches = 'tight', pad_inches = 0)\n",
        "            image_counter += 1\n",
        "    plt.figure(image_counter)\n",
        "    plt.plot(np.array(loss_log))\n",
        "    plt.xlabel('Epoch')\n",
        "    plt.ylabel('Loss')\n",
        "    fig1 = plt.gcf()\n",
        "    fig1.subplots_adjust(top = 0.98, bottom = 0.1, right = 0.98, left = 0.08, hspace = 0, wspace = 0)\n",
        "    fig1.savefig('gradient_descent-log' + str(alpha) + '.png', dpi=150, bbox_inches = 'tight', pad_inches = 0)\n",
        "    return w, b\n",
        "\n",
        "def loss(spendings, sales, w, b):\n",
        "    N = len(spendings)\n",
        "    total_error = 0.0\n",
        "    for i in range(N):\n",
        "        total_error += (sales[i] - (w*spendings[i] + b))**2\n",
        "    return total_error / N\n"
      ]
    },
    {
      "cell_type": "code",
      "source": [
        "x, y = np.loadtxt(\"4_learning.txt\", delimiter= \"\\t\", unpack = True)\n",
        "#w, b = train(x, y, 0.0, 0.0, 0.001, 15000)\n",
        "\n",
        "plot_original_data()\n",
        "\n",
        "# def predict(x, w, b):\n",
        "#     return w*x + b\n",
        "# x_new = 23.0\n",
        "# y_new = predict(x_new, w, b)\n",
        "# print(y_new)"
      ],
      "metadata": {
        "id": "mq7Se7BdRpf5"
      },
      "execution_count": null,
      "outputs": []
    },
    {
      "cell_type": "code",
      "source": [
        "# w = -1000\n",
        "# b = -1000\n",
        "w = 1\n",
        "b = 1\n",
        "alpha = 1e-3\n",
        "epochs = 3000\n",
        "w, b = train(x/100, y, w, b, alpha, epochs)"
      ],
      "metadata": {
        "id": "n2ygoannSGHp"
      },
      "execution_count": null,
      "outputs": []
    }
  ]
}